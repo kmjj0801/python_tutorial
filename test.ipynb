{
 "cells": [
  {
   "cell_type": "code",
   "execution_count": 1,
   "id": "c3ae51ea",
   "metadata": {},
   "outputs": [],
   "source": [
    "import warnings\n",
    "warnings.filterwarnings('ignore')\n",
    "\n",
    "import logging\n",
    "logging.basicConfig(level=logging.INFO)\n",
    "\n",
    "import pandas as pd \n",
    "\n",
    "from common.dataset import load_dataset\n",
    "from common.preprocessing.eda import do_eda\n",
    "from common.preprocessing.preprocessing import do_preprocessing\n",
    "from common.modeling.model import get_model\n",
    "from common.modeling.training import do_training"
   ]
  },
  {
   "cell_type": "code",
   "execution_count": 2,
   "id": "cb3c752c",
   "metadata": {},
   "outputs": [],
   "source": [
    "# 1. train dataset, test dataset \n",
    "df_train, df_train_target = load_dataset(\"./data/train.csv\", target_col=\"survived\")\n",
    "df_test, _ = load_dataset(\"./data/test.csv\")"
   ]
  },
  {
   "cell_type": "code",
   "execution_count": 3,
   "id": "8dd6c068",
   "metadata": {},
   "outputs": [
    {
     "data": {
      "text/plain": [
       "((916, 11), (916,))"
      ]
     },
     "execution_count": 3,
     "metadata": {},
     "output_type": "execute_result"
    }
   ],
   "source": [
    "df_train.shape, df_train_target.shape "
   ]
  },
  {
   "cell_type": "code",
   "execution_count": null,
   "id": "54c3b979",
   "metadata": {},
   "outputs": [
    {
     "name": "stderr",
     "output_type": "stream",
     "text": [
      "INFO:root:##################################\n",
      "INFO:root:Start do_cleaning\n",
      "INFO:root:##################################\n",
      "INFO:root:Start do_encoding\n"
     ]
    }
   ],
   "source": [
    "tr_x, te_x, tr_y, te_y, test = do_preprocessing(df_train, df_train_target, df_test)"
   ]
  },
  {
   "cell_type": "code",
   "execution_count": 5,
   "id": "c29884ee",
   "metadata": {},
   "outputs": [
    {
     "data": {
      "text/plain": [
       "((732, 10), (184, 10))"
      ]
     },
     "execution_count": 5,
     "metadata": {},
     "output_type": "execute_result"
    }
   ],
   "source": [
    "tr_x.shape, tr_y.shape "
   ]
  },
  {
   "cell_type": "code",
   "execution_count": null,
   "id": "b6440eca",
   "metadata": {},
   "outputs": [],
   "source": []
  }
 ],
 "metadata": {
  "kernelspec": {
   "display_name": ".venv",
   "language": "python",
   "name": "python3"
  },
  "language_info": {
   "codemirror_mode": {
    "name": "ipython",
    "version": 3
   },
   "file_extension": ".py",
   "mimetype": "text/x-python",
   "name": "python",
   "nbconvert_exporter": "python",
   "pygments_lexer": "ipython3",
   "version": "3.13.2"
  }
 },
 "nbformat": 4,
 "nbformat_minor": 5
}
